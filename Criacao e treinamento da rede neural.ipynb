{
  "nbformat": 4,
  "nbformat_minor": 0,
  "metadata": {
    "colab": {
      "provenance": []
    },
    "kernelspec": {
      "name": "python3",
      "display_name": "Python 3"
    },
    "language_info": {
      "name": "python"
    },
    "accelerator": "GPU",
    "gpuClass": "standard"
  },
  "cells": [
    {
      "cell_type": "markdown",
      "source": [
        "# Segmentação de imagens médicas - Notebook responsavel pela criação e treinamento da rede neural"
      ],
      "metadata": {
        "id": "rkmhIHmX4osy"
      }
    },
    {
      "cell_type": "markdown",
      "source": [
        "# Importação das bibliotecas"
      ],
      "metadata": {
        "id": "ZMFMC7cNLJPw"
      }
    },
    {
      "cell_type": "code",
      "execution_count": null,
      "metadata": {
        "colab": {
          "base_uri": "https://localhost:8080/",
          "height": 36
        },
        "id": "KVTkxaqM23eY",
        "outputId": "21c6e221-531d-49e6-b08d-86799e8bc623"
      },
      "outputs": [
        {
          "output_type": "execute_result",
          "data": {
            "text/plain": [
              "'2.11.0'"
            ],
            "application/vnd.google.colaboratory.intrinsic+json": {
              "type": "string"
            }
          },
          "metadata": {},
          "execution_count": 1
        }
      ],
      "source": [
        "import os\n",
        "import numpy as np\n",
        "import cv2\n",
        "from tqdm import tqdm\n",
        "from matplotlib import pyplot as plt\n",
        "import tensorflow\n",
        "from tensorflow.keras.optimizers.legacy import Adam\n",
        "import random\n",
        "from glob import glob\n",
        "from imageio import mimread\n",
        "from google.colab.patches import cv2_imshow\n",
        "import tensorflow_datasets as tfds\n",
        "tensorflow.__version__"
      ]
    },
    {
      "cell_type": "code",
      "source": [
        "from google.colab import drive\n",
        "drive.mount('/content/gdrive')"
      ],
      "metadata": {
        "colab": {
          "base_uri": "https://localhost:8080/"
        },
        "id": "FC5zd7266VhY",
        "outputId": "2582153a-f9c4-460f-a9ae-a947e366ec37"
      },
      "execution_count": null,
      "outputs": [
        {
          "output_type": "stream",
          "name": "stdout",
          "text": [
            "Mounted at /content/gdrive\n"
          ]
        }
      ]
    },
    {
      "cell_type": "markdown",
      "source": [
        "# Carregamento da base de dados"
      ],
      "metadata": {
        "id": "nzWI7cS4M9xw"
      }
    },
    {
      "cell_type": "code",
      "source": [
        "def carregar_dataset(caminho):\n",
        "  X_train = sorted(glob(os.path.join(caminho, \"train\", \"principal\", \"*.png\")))\n",
        "  y_train = sorted(glob(os.path.join(caminho, \"train\", \"mask\", \"*.jpg\")))\n",
        "\n",
        "  X_test = sorted(glob(os.path.join(caminho, \"test\", \"principal\", \"*.png\")))\n",
        "  y_test = sorted(glob(os.path.join(caminho, \"test\", \"mask\", \"*.jpg\")))\n",
        "\n",
        "  return (X_train, y_train), (X_test, y_test)"
      ],
      "metadata": {
        "id": "nvQqSWijLNiW"
      },
      "execution_count": null,
      "outputs": []
    },
    {
      "cell_type": "code",
      "source": [
        "caminho = '/content/gdrive/MyDrive/Segmentacao/medical-images'"
      ],
      "metadata": {
        "id": "eBhheSe7NL-Q"
      },
      "execution_count": null,
      "outputs": []
    },
    {
      "cell_type": "code",
      "source": [
        "(X_train, y_train), (X_test, y_test) = carregar_dataset(caminho)"
      ],
      "metadata": {
        "id": "y88ZmXZNN3mU"
      },
      "execution_count": null,
      "outputs": []
    },
    {
      "cell_type": "code",
      "source": [
        "len(X_train), len(y_train)"
      ],
      "metadata": {
        "colab": {
          "base_uri": "https://localhost:8080/"
        },
        "id": "IlbG9ZgrN-8H",
        "outputId": "8b54dafd-9b00-4a12-9540-97bae80dfe7f"
      },
      "execution_count": null,
      "outputs": [
        {
          "output_type": "execute_result",
          "data": {
            "text/plain": [
              "(80, 80)"
            ]
          },
          "metadata": {},
          "execution_count": 6
        }
      ]
    },
    {
      "cell_type": "code",
      "source": [
        "print(X_train[0])\n",
        "print(y_train[0])\n",
        "print(X_test[0])\n",
        "print(y_test[0])"
      ],
      "metadata": {
        "colab": {
          "base_uri": "https://localhost:8080/"
        },
        "id": "9SvXeQ1fOEEp",
        "outputId": "eadbf50a-dc31-4755-cdfa-c08f1ba4dc8e"
      },
      "execution_count": null,
      "outputs": [
        {
          "output_type": "stream",
          "name": "stdout",
          "text": [
            "/content/gdrive/MyDrive/Segmentacao/medical-images/train/principal/ID_0001_AGE_0069_CONTRAST_1_CT.png\n",
            "/content/gdrive/MyDrive/Segmentacao/medical-images/train/mask/MASK_ID_0001_AGE_0069_CONTRAST_1_CT.jpg\n",
            "/content/gdrive/MyDrive/Segmentacao/medical-images/test/principal/ID_0000_AGE_0060_CONTRAST_1_CT.png\n",
            "/content/gdrive/MyDrive/Segmentacao/medical-images/test/mask/MASK_ID_0000_AGE_0060_CONTRAST_1_CT.jpg\n"
          ]
        }
      ]
    },
    {
      "cell_type": "code",
      "source": [
        "len(X_test), len(y_test)"
      ],
      "metadata": {
        "id": "bhCUjrhSOLng",
        "outputId": "11fe92e9-e7c7-4b22-97bf-3b618af01bd1",
        "colab": {
          "base_uri": "https://localhost:8080/"
        }
      },
      "execution_count": null,
      "outputs": [
        {
          "output_type": "execute_result",
          "data": {
            "text/plain": [
              "(20, 20)"
            ]
          },
          "metadata": {},
          "execution_count": 8
        }
      ]
    },
    {
      "cell_type": "code",
      "source": [
        "img_altura = 512\n",
        "img_largura = 512"
      ],
      "metadata": {
        "id": "b2wnNdidsRw4"
      },
      "execution_count": null,
      "outputs": []
    },
    {
      "cell_type": "code",
      "source": [
        "epochs = 50\n",
        "batch_size = 2\n",
        "lr = 1e-4"
      ],
      "metadata": {
        "id": "qqFneu0YsaqK"
      },
      "execution_count": null,
      "outputs": []
    },
    {
      "cell_type": "markdown",
      "source": [
        "# Construção da rede neural"
      ],
      "metadata": {
        "id": "Qz3sFVrOspON"
      }
    },
    {
      "cell_type": "code",
      "source": [
        "from tensorflow.keras.models import Model\n",
        "from tensorflow.keras.layers import Input, Conv2D, MaxPooling2D, UpSampling2D, concatenate, Conv2DTranspose, BatchNormalization, Dropout, Lambda, ReLU\n",
        "from tensorflow.keras.optimizers import Adam\n",
        "from tensorflow.keras.layers import Activation, MaxPool2D, Concatenate\n",
        "from tensorflow.keras.callbacks import ModelCheckpoint, EarlyStopping, TensorBoard, ReduceLROnPlateau, CSVLogger\n",
        "from tensorflow.keras.metrics import Recall, Precision\n",
        "\n",
        "def bloco_conv(input, num_filters):\n",
        "    x = Conv2D(num_filters, 3, padding=\"same\")(input)\n",
        "    x = BatchNormalization()(x) \n",
        "    x = Activation(\"relu\")(x)\n",
        "\n",
        "    x = Conv2D(num_filters, 3, padding=\"same\")(x)\n",
        "    x = BatchNormalization()(x) \n",
        "    x = Activation(\"relu\")(x)\n",
        "\n",
        "    return x\n",
        "\n",
        "def bloco_encoder(input, num_filters):\n",
        "    x = bloco_conv(input, num_filters)\n",
        "    p = MaxPool2D((2, 2))(x)\n",
        "    return x, p  \n",
        "\n",
        "\n",
        "def bloco_decoder(input, skip_features, num_filters):\n",
        "    x = Conv2DTranspose(num_filters, (2, 2), strides=2, padding=\"same\")(input)\n",
        "    x = Concatenate()([x, skip_features])\n",
        "    x = bloco_conv(x, num_filters)\n",
        "    return x \n",
        "\n",
        "\n",
        "def modelo_unet(input_shape):\n",
        "    inputs = Input(input_shape)\n",
        "\n",
        "    s1, p1 = bloco_encoder(inputs, 64)\n",
        "    s2, p2 = bloco_encoder(p1, 64*2) #128\n",
        "    s3, p3 = bloco_encoder(p2, 64*4) #256\n",
        "    s4, p4 = bloco_encoder(p3, 64*8) #512\n",
        "\n",
        "    b1 = bloco_conv(p4, 64*16)  #1024\n",
        "\n",
        "    d1 = bloco_decoder(b1, s4, 64*8) #512\n",
        "    d2 = bloco_decoder(d1, s3, 64*4) #256\n",
        "    d3 = bloco_decoder(d2, s2, 64*2) #128\n",
        "    d4 = bloco_decoder(d3, s1, 64)\n",
        "\n",
        "    outputs = Conv2D(1, 1, padding=\"same\", activation=\"sigmoid\")(d4)  \n",
        "\n",
        "    model = Model(inputs, outputs, name=\"UNet\")\n",
        "    return model"
      ],
      "metadata": {
        "id": "-zztAPF8srwk"
      },
      "execution_count": null,
      "outputs": []
    },
    {
      "cell_type": "code",
      "source": [
        "from keras import backend as K\n",
        "\n",
        "\"\"\" IoU \"\"\"\n",
        "def iou(y_true, y_pred, smooth=1):\n",
        "    intersection = K.sum(K.abs(y_true * y_pred), axis=[1,2,3])\n",
        "    union = K.sum(y_true,[1,2,3])+K.sum(y_pred,[1,2,3])-intersection\n",
        "    iou = K.mean((intersection + smooth) / (union + smooth), axis=0)\n",
        "    return iou\n",
        "\n",
        "\"\"\" Dice Coefficient \"\"\"\n",
        "def dice_coef(y_true, y_pred, smooth=1):\n",
        "    intersection = K.sum(y_true * y_pred, axis=[1,2,3])\n",
        "    union = K.sum(y_true, axis=[1,2,3]) + K.sum(y_pred, axis=[1,2,3])\n",
        "    return K.mean( (2. * intersection + smooth) / (union + smooth), axis=0)\n",
        "\n",
        "\"\"\" Dice Coefficient Loss \"\"\"\n",
        "def dice_coef_loss(y_true, y_pred):\n",
        "    return 1 - dice_coef(y_true, y_pred)"
      ],
      "metadata": {
        "id": "z74hggnQsyKL"
      },
      "execution_count": null,
      "outputs": []
    },
    {
      "cell_type": "code",
      "source": [
        "model = modelo_unet((img_altura, img_largura, 3))\n",
        "model.compile(loss=dice_coef_loss, optimizer=Adam(lr), metrics = [dice_coef, iou, 'accuracy'])\n",
        "model.summary()"
      ],
      "metadata": {
        "colab": {
          "base_uri": "https://localhost:8080/"
        },
        "id": "8DWAv6dXs2Sg",
        "outputId": "d0c6707e-54b8-4365-8086-905bdfddb78b"
      },
      "execution_count": null,
      "outputs": [
        {
          "output_type": "stream",
          "name": "stdout",
          "text": [
            "Model: \"UNet\"\n",
            "__________________________________________________________________________________________________\n",
            " Layer (type)                   Output Shape         Param #     Connected to                     \n",
            "==================================================================================================\n",
            " input_1 (InputLayer)           [(None, 512, 512, 3  0           []                               \n",
            "                                )]                                                                \n",
            "                                                                                                  \n",
            " conv2d (Conv2D)                (None, 512, 512, 64  1792        ['input_1[0][0]']                \n",
            "                                )                                                                 \n",
            "                                                                                                  \n",
            " batch_normalization (BatchNorm  (None, 512, 512, 64  256        ['conv2d[0][0]']                 \n",
            " alization)                     )                                                                 \n",
            "                                                                                                  \n",
            " activation (Activation)        (None, 512, 512, 64  0           ['batch_normalization[0][0]']    \n",
            "                                )                                                                 \n",
            "                                                                                                  \n",
            " conv2d_1 (Conv2D)              (None, 512, 512, 64  36928       ['activation[0][0]']             \n",
            "                                )                                                                 \n",
            "                                                                                                  \n",
            " batch_normalization_1 (BatchNo  (None, 512, 512, 64  256        ['conv2d_1[0][0]']               \n",
            " rmalization)                   )                                                                 \n",
            "                                                                                                  \n",
            " activation_1 (Activation)      (None, 512, 512, 64  0           ['batch_normalization_1[0][0]']  \n",
            "                                )                                                                 \n",
            "                                                                                                  \n",
            " max_pooling2d (MaxPooling2D)   (None, 256, 256, 64  0           ['activation_1[0][0]']           \n",
            "                                )                                                                 \n",
            "                                                                                                  \n",
            " conv2d_2 (Conv2D)              (None, 256, 256, 12  73856       ['max_pooling2d[0][0]']          \n",
            "                                8)                                                                \n",
            "                                                                                                  \n",
            " batch_normalization_2 (BatchNo  (None, 256, 256, 12  512        ['conv2d_2[0][0]']               \n",
            " rmalization)                   8)                                                                \n",
            "                                                                                                  \n",
            " activation_2 (Activation)      (None, 256, 256, 12  0           ['batch_normalization_2[0][0]']  \n",
            "                                8)                                                                \n",
            "                                                                                                  \n",
            " conv2d_3 (Conv2D)              (None, 256, 256, 12  147584      ['activation_2[0][0]']           \n",
            "                                8)                                                                \n",
            "                                                                                                  \n",
            " batch_normalization_3 (BatchNo  (None, 256, 256, 12  512        ['conv2d_3[0][0]']               \n",
            " rmalization)                   8)                                                                \n",
            "                                                                                                  \n",
            " activation_3 (Activation)      (None, 256, 256, 12  0           ['batch_normalization_3[0][0]']  \n",
            "                                8)                                                                \n",
            "                                                                                                  \n",
            " max_pooling2d_1 (MaxPooling2D)  (None, 128, 128, 12  0          ['activation_3[0][0]']           \n",
            "                                8)                                                                \n",
            "                                                                                                  \n",
            " conv2d_4 (Conv2D)              (None, 128, 128, 25  295168      ['max_pooling2d_1[0][0]']        \n",
            "                                6)                                                                \n",
            "                                                                                                  \n",
            " batch_normalization_4 (BatchNo  (None, 128, 128, 25  1024       ['conv2d_4[0][0]']               \n",
            " rmalization)                   6)                                                                \n",
            "                                                                                                  \n",
            " activation_4 (Activation)      (None, 128, 128, 25  0           ['batch_normalization_4[0][0]']  \n",
            "                                6)                                                                \n",
            "                                                                                                  \n",
            " conv2d_5 (Conv2D)              (None, 128, 128, 25  590080      ['activation_4[0][0]']           \n",
            "                                6)                                                                \n",
            "                                                                                                  \n",
            " batch_normalization_5 (BatchNo  (None, 128, 128, 25  1024       ['conv2d_5[0][0]']               \n",
            " rmalization)                   6)                                                                \n",
            "                                                                                                  \n",
            " activation_5 (Activation)      (None, 128, 128, 25  0           ['batch_normalization_5[0][0]']  \n",
            "                                6)                                                                \n",
            "                                                                                                  \n",
            " max_pooling2d_2 (MaxPooling2D)  (None, 64, 64, 256)  0          ['activation_5[0][0]']           \n",
            "                                                                                                  \n",
            " conv2d_6 (Conv2D)              (None, 64, 64, 512)  1180160     ['max_pooling2d_2[0][0]']        \n",
            "                                                                                                  \n",
            " batch_normalization_6 (BatchNo  (None, 64, 64, 512)  2048       ['conv2d_6[0][0]']               \n",
            " rmalization)                                                                                     \n",
            "                                                                                                  \n",
            " activation_6 (Activation)      (None, 64, 64, 512)  0           ['batch_normalization_6[0][0]']  \n",
            "                                                                                                  \n",
            " conv2d_7 (Conv2D)              (None, 64, 64, 512)  2359808     ['activation_6[0][0]']           \n",
            "                                                                                                  \n",
            " batch_normalization_7 (BatchNo  (None, 64, 64, 512)  2048       ['conv2d_7[0][0]']               \n",
            " rmalization)                                                                                     \n",
            "                                                                                                  \n",
            " activation_7 (Activation)      (None, 64, 64, 512)  0           ['batch_normalization_7[0][0]']  \n",
            "                                                                                                  \n",
            " max_pooling2d_3 (MaxPooling2D)  (None, 32, 32, 512)  0          ['activation_7[0][0]']           \n",
            "                                                                                                  \n",
            " conv2d_8 (Conv2D)              (None, 32, 32, 1024  4719616     ['max_pooling2d_3[0][0]']        \n",
            "                                )                                                                 \n",
            "                                                                                                  \n",
            " batch_normalization_8 (BatchNo  (None, 32, 32, 1024  4096       ['conv2d_8[0][0]']               \n",
            " rmalization)                   )                                                                 \n",
            "                                                                                                  \n",
            " activation_8 (Activation)      (None, 32, 32, 1024  0           ['batch_normalization_8[0][0]']  \n",
            "                                )                                                                 \n",
            "                                                                                                  \n",
            " conv2d_9 (Conv2D)              (None, 32, 32, 1024  9438208     ['activation_8[0][0]']           \n",
            "                                )                                                                 \n",
            "                                                                                                  \n",
            " batch_normalization_9 (BatchNo  (None, 32, 32, 1024  4096       ['conv2d_9[0][0]']               \n",
            " rmalization)                   )                                                                 \n",
            "                                                                                                  \n",
            " activation_9 (Activation)      (None, 32, 32, 1024  0           ['batch_normalization_9[0][0]']  \n",
            "                                )                                                                 \n",
            "                                                                                                  \n",
            " conv2d_transpose (Conv2DTransp  (None, 64, 64, 512)  2097664    ['activation_9[0][0]']           \n",
            " ose)                                                                                             \n",
            "                                                                                                  \n",
            " concatenate (Concatenate)      (None, 64, 64, 1024  0           ['conv2d_transpose[0][0]',       \n",
            "                                )                                 'activation_7[0][0]']           \n",
            "                                                                                                  \n",
            " conv2d_10 (Conv2D)             (None, 64, 64, 512)  4719104     ['concatenate[0][0]']            \n",
            "                                                                                                  \n",
            " batch_normalization_10 (BatchN  (None, 64, 64, 512)  2048       ['conv2d_10[0][0]']              \n",
            " ormalization)                                                                                    \n",
            "                                                                                                  \n",
            " activation_10 (Activation)     (None, 64, 64, 512)  0           ['batch_normalization_10[0][0]'] \n",
            "                                                                                                  \n",
            " conv2d_11 (Conv2D)             (None, 64, 64, 512)  2359808     ['activation_10[0][0]']          \n",
            "                                                                                                  \n",
            " batch_normalization_11 (BatchN  (None, 64, 64, 512)  2048       ['conv2d_11[0][0]']              \n",
            " ormalization)                                                                                    \n",
            "                                                                                                  \n",
            " activation_11 (Activation)     (None, 64, 64, 512)  0           ['batch_normalization_11[0][0]'] \n",
            "                                                                                                  \n",
            " conv2d_transpose_1 (Conv2DTran  (None, 128, 128, 25  524544     ['activation_11[0][0]']          \n",
            " spose)                         6)                                                                \n",
            "                                                                                                  \n",
            " concatenate_1 (Concatenate)    (None, 128, 128, 51  0           ['conv2d_transpose_1[0][0]',     \n",
            "                                2)                                'activation_5[0][0]']           \n",
            "                                                                                                  \n",
            " conv2d_12 (Conv2D)             (None, 128, 128, 25  1179904     ['concatenate_1[0][0]']          \n",
            "                                6)                                                                \n",
            "                                                                                                  \n",
            " batch_normalization_12 (BatchN  (None, 128, 128, 25  1024       ['conv2d_12[0][0]']              \n",
            " ormalization)                  6)                                                                \n",
            "                                                                                                  \n",
            " activation_12 (Activation)     (None, 128, 128, 25  0           ['batch_normalization_12[0][0]'] \n",
            "                                6)                                                                \n",
            "                                                                                                  \n",
            " conv2d_13 (Conv2D)             (None, 128, 128, 25  590080      ['activation_12[0][0]']          \n",
            "                                6)                                                                \n",
            "                                                                                                  \n",
            " batch_normalization_13 (BatchN  (None, 128, 128, 25  1024       ['conv2d_13[0][0]']              \n",
            " ormalization)                  6)                                                                \n",
            "                                                                                                  \n",
            " activation_13 (Activation)     (None, 128, 128, 25  0           ['batch_normalization_13[0][0]'] \n",
            "                                6)                                                                \n",
            "                                                                                                  \n",
            " conv2d_transpose_2 (Conv2DTran  (None, 256, 256, 12  131200     ['activation_13[0][0]']          \n",
            " spose)                         8)                                                                \n",
            "                                                                                                  \n",
            " concatenate_2 (Concatenate)    (None, 256, 256, 25  0           ['conv2d_transpose_2[0][0]',     \n",
            "                                6)                                'activation_3[0][0]']           \n",
            "                                                                                                  \n",
            " conv2d_14 (Conv2D)             (None, 256, 256, 12  295040      ['concatenate_2[0][0]']          \n",
            "                                8)                                                                \n",
            "                                                                                                  \n",
            " batch_normalization_14 (BatchN  (None, 256, 256, 12  512        ['conv2d_14[0][0]']              \n",
            " ormalization)                  8)                                                                \n",
            "                                                                                                  \n",
            " activation_14 (Activation)     (None, 256, 256, 12  0           ['batch_normalization_14[0][0]'] \n",
            "                                8)                                                                \n",
            "                                                                                                  \n",
            " conv2d_15 (Conv2D)             (None, 256, 256, 12  147584      ['activation_14[0][0]']          \n",
            "                                8)                                                                \n",
            "                                                                                                  \n",
            " batch_normalization_15 (BatchN  (None, 256, 256, 12  512        ['conv2d_15[0][0]']              \n",
            " ormalization)                  8)                                                                \n",
            "                                                                                                  \n",
            " activation_15 (Activation)     (None, 256, 256, 12  0           ['batch_normalization_15[0][0]'] \n",
            "                                8)                                                                \n",
            "                                                                                                  \n",
            " conv2d_transpose_3 (Conv2DTran  (None, 512, 512, 64  32832      ['activation_15[0][0]']          \n",
            " spose)                         )                                                                 \n",
            "                                                                                                  \n",
            " concatenate_3 (Concatenate)    (None, 512, 512, 12  0           ['conv2d_transpose_3[0][0]',     \n",
            "                                8)                                'activation_1[0][0]']           \n",
            "                                                                                                  \n",
            " conv2d_16 (Conv2D)             (None, 512, 512, 64  73792       ['concatenate_3[0][0]']          \n",
            "                                )                                                                 \n",
            "                                                                                                  \n",
            " batch_normalization_16 (BatchN  (None, 512, 512, 64  256        ['conv2d_16[0][0]']              \n",
            " ormalization)                  )                                                                 \n",
            "                                                                                                  \n",
            " activation_16 (Activation)     (None, 512, 512, 64  0           ['batch_normalization_16[0][0]'] \n",
            "                                )                                                                 \n",
            "                                                                                                  \n",
            " conv2d_17 (Conv2D)             (None, 512, 512, 64  36928       ['activation_16[0][0]']          \n",
            "                                )                                                                 \n",
            "                                                                                                  \n",
            " batch_normalization_17 (BatchN  (None, 512, 512, 64  256        ['conv2d_17[0][0]']              \n",
            " ormalization)                  )                                                                 \n",
            "                                                                                                  \n",
            " activation_17 (Activation)     (None, 512, 512, 64  0           ['batch_normalization_17[0][0]'] \n",
            "                                )                                                                 \n",
            "                                                                                                  \n",
            " conv2d_18 (Conv2D)             (None, 512, 512, 1)  65          ['activation_17[0][0]']          \n",
            "                                                                                                  \n",
            "==================================================================================================\n",
            "Total params: 31,055,297\n",
            "Trainable params: 31,043,521\n",
            "Non-trainable params: 11,776\n",
            "__________________________________________________________________________________________________\n"
          ]
        }
      ]
    },
    {
      "cell_type": "code",
      "source": [
        "def ler_img_dataset(caminho):\n",
        "  caminho = caminho.decode()\n",
        "  img = cv2.imread(caminho)  \n",
        "  img = img / 255.0\n",
        "  img = img.astype(np.float32)\n",
        "  return img"
      ],
      "metadata": {
        "id": "wXFQFgjlqNst"
      },
      "execution_count": null,
      "outputs": []
    },
    {
      "cell_type": "code",
      "source": [
        "def ler_mask_dataset(caminho):\n",
        "  caminho = caminho.decode()\n",
        "  img = cv2.imread(caminho, cv2.IMREAD_GRAYSCALE)\n",
        "  img = img / 255.0\n",
        "  img = img.astype(np.float32)\n",
        "  img = np.expand_dims(img, axis = -1) # (512, 512) -> (512, 512, 1)\n",
        "  return img"
      ],
      "metadata": {
        "id": "r6T7gLQVqP4w"
      },
      "execution_count": null,
      "outputs": []
    },
    {
      "cell_type": "code",
      "source": [
        "def tf_parse(x, y):\n",
        "  def _parse(x, y):\n",
        "    x = ler_img_dataset(x)\n",
        "    y = ler_mask_dataset(y)\n",
        "    return x, y\n",
        "\n",
        "  x, y = tensorflow.numpy_function(_parse, [x, y], [tensorflow.float32, tensorflow.float32])\n",
        "  x.set_shape([img_altura, img_largura, 3])\n",
        "  y.set_shape([img_altura, img_largura, 1])\n",
        "  return x, y"
      ],
      "metadata": {
        "id": "lOZRdp0fqRqL"
      },
      "execution_count": null,
      "outputs": []
    },
    {
      "cell_type": "code",
      "source": [
        "def tf_dataset(X, y, batch_size=2):\n",
        "  dataset = tensorflow.data.Dataset.from_tensor_slices((X, y))\n",
        "  dataset = dataset.map(tf_parse)\n",
        "  dataset = dataset.batch(batch_size)\n",
        "  dataset = dataset.prefetch(4)\n",
        "  return dataset"
      ],
      "metadata": {
        "id": "KdnDIcmkrPep"
      },
      "execution_count": null,
      "outputs": []
    },
    {
      "cell_type": "code",
      "source": [
        "dataset_train = tf_dataset(X_train, y_train, batch_size=batch_size)\n",
        "dataset_val = tf_dataset(X_test, y_test, batch_size=batch_size)"
      ],
      "metadata": {
        "colab": {
          "base_uri": "https://localhost:8080/"
        },
        "id": "Or5U4ndFraJJ",
        "outputId": "22852d02-f88d-4693-94cb-bd406b61e666"
      },
      "execution_count": null,
      "outputs": [
        {
          "output_type": "stream",
          "name": "stderr",
          "text": [
            "WARNING:tensorflow:From /usr/local/lib/python3.9/dist-packages/tensorflow/python/autograph/pyct/static_analysis/liveness.py:83: Analyzer.lamba_check (from tensorflow.python.autograph.pyct.static_analysis.liveness) is deprecated and will be removed after 2023-09-23.\n",
            "Instructions for updating:\n",
            "Lambda fuctions will be no more assumed to be used in the statement where they are used, or at least in the same block. https://github.com/tensorflow/tensorflow/issues/56089\n"
          ]
        }
      ]
    },
    {
      "cell_type": "code",
      "source": [
        "callbacks = [ModelCheckpoint('/content/gdrive/MyDrive/Segmentacao/modelo' + '/modelo_drive_{epoch:02d}.h5', verbose=1, save_best_only=True),\n",
        "             EarlyStopping(monitor='val_loss', patience=5)]"
      ],
      "metadata": {
        "id": "l73DQi4Tse2Z"
      },
      "execution_count": null,
      "outputs": []
    },
    {
      "cell_type": "markdown",
      "source": [
        "# Treinamento da rede neural para predição das imagens"
      ],
      "metadata": {
        "id": "gpqtCjKY5NZp"
      }
    },
    {
      "cell_type": "code",
      "source": [
        "history = model.fit(dataset_train, epochs=epochs, validation_data=dataset_val, callbacks=callbacks)"
      ],
      "metadata": {
        "colab": {
          "base_uri": "https://localhost:8080/"
        },
        "id": "FoyePe3ttXE5",
        "outputId": "ba3e1342-e0bd-42b6-a1a2-529fd77e0145"
      },
      "execution_count": null,
      "outputs": [
        {
          "output_type": "stream",
          "name": "stdout",
          "text": [
            "Epoch 1/50\n",
            "40/40 [==============================] - ETA: 0s - loss: 0.3173 - dice_coef: 0.6827 - iou: 0.5219 - accuracy: 0.4290\n",
            "Epoch 1: val_loss improved from inf to 0.37655, saving model to /content/gdrive/MyDrive/Segmentacao/modelo/modelo_drive_01.h5\n",
            "40/40 [==============================] - 87s 1s/step - loss: 0.3173 - dice_coef: 0.6827 - iou: 0.5219 - accuracy: 0.4290 - val_loss: 0.3766 - val_dice_coef: 0.6234 - val_iou: 0.4533 - val_accuracy: 0.4536\n",
            "Epoch 2/50\n",
            "40/40 [==============================] - ETA: 0s - loss: 0.2371 - dice_coef: 0.7629 - iou: 0.6186 - accuracy: 0.4540\n",
            "Epoch 2: val_loss improved from 0.37655 to 0.32472, saving model to /content/gdrive/MyDrive/Segmentacao/modelo/modelo_drive_02.h5\n",
            "40/40 [==============================] - 27s 685ms/step - loss: 0.2371 - dice_coef: 0.7629 - iou: 0.6186 - accuracy: 0.4540 - val_loss: 0.3247 - val_dice_coef: 0.6753 - val_iou: 0.5104 - val_accuracy: 0.4535\n",
            "Epoch 3/50\n",
            "40/40 [==============================] - ETA: 0s - loss: 0.2108 - dice_coef: 0.7892 - iou: 0.6536 - accuracy: 0.4625\n",
            "Epoch 3: val_loss improved from 0.32472 to 0.30644, saving model to /content/gdrive/MyDrive/Segmentacao/modelo/modelo_drive_03.h5\n",
            "40/40 [==============================] - 25s 618ms/step - loss: 0.2108 - dice_coef: 0.7892 - iou: 0.6536 - accuracy: 0.4625 - val_loss: 0.3064 - val_dice_coef: 0.6936 - val_iou: 0.5317 - val_accuracy: 0.4537\n",
            "Epoch 4/50\n",
            "40/40 [==============================] - ETA: 0s - loss: 0.1966 - dice_coef: 0.8034 - iou: 0.6733 - accuracy: 0.4678\n",
            "Epoch 4: val_loss did not improve from 0.30644\n",
            "40/40 [==============================] - 24s 596ms/step - loss: 0.1966 - dice_coef: 0.8034 - iou: 0.6733 - accuracy: 0.4678 - val_loss: 0.3282 - val_dice_coef: 0.6718 - val_iou: 0.5062 - val_accuracy: 0.4535\n",
            "Epoch 5/50\n",
            "40/40 [==============================] - ETA: 0s - loss: 0.1892 - dice_coef: 0.8108 - iou: 0.6838 - accuracy: 0.4706\n",
            "Epoch 5: val_loss improved from 0.30644 to 0.25227, saving model to /content/gdrive/MyDrive/Segmentacao/modelo/modelo_drive_05.h5\n",
            "40/40 [==============================] - 24s 590ms/step - loss: 0.1892 - dice_coef: 0.8108 - iou: 0.6838 - accuracy: 0.4706 - val_loss: 0.2523 - val_dice_coef: 0.7477 - val_iou: 0.5982 - val_accuracy: 0.4536\n",
            "Epoch 6/50\n",
            "40/40 [==============================] - ETA: 0s - loss: 0.1841 - dice_coef: 0.8159 - iou: 0.6910 - accuracy: 0.4727\n",
            "Epoch 6: val_loss improved from 0.25227 to 0.23853, saving model to /content/gdrive/MyDrive/Segmentacao/modelo/modelo_drive_06.h5\n",
            "40/40 [==============================] - 28s 700ms/step - loss: 0.1841 - dice_coef: 0.8159 - iou: 0.6910 - accuracy: 0.4727 - val_loss: 0.2385 - val_dice_coef: 0.7615 - val_iou: 0.6161 - val_accuracy: 0.4545\n",
            "Epoch 7/50\n",
            "40/40 [==============================] - ETA: 0s - loss: 0.1802 - dice_coef: 0.8198 - iou: 0.6967 - accuracy: 0.4744\n",
            "Epoch 7: val_loss improved from 0.23853 to 0.22597, saving model to /content/gdrive/MyDrive/Segmentacao/modelo/modelo_drive_07.h5\n",
            "40/40 [==============================] - 31s 773ms/step - loss: 0.1802 - dice_coef: 0.8198 - iou: 0.6967 - accuracy: 0.4744 - val_loss: 0.2260 - val_dice_coef: 0.7740 - val_iou: 0.6328 - val_accuracy: 0.4552\n",
            "Epoch 8/50\n",
            "40/40 [==============================] - ETA: 0s - loss: 0.1772 - dice_coef: 0.8228 - iou: 0.7009 - accuracy: 0.4756\n",
            "Epoch 8: val_loss did not improve from 0.22597\n",
            "40/40 [==============================] - 23s 576ms/step - loss: 0.1772 - dice_coef: 0.8228 - iou: 0.7009 - accuracy: 0.4756 - val_loss: 0.2885 - val_dice_coef: 0.7115 - val_iou: 0.5530 - val_accuracy: 0.4302\n",
            "Epoch 9/50\n",
            "40/40 [==============================] - ETA: 0s - loss: 0.1735 - dice_coef: 0.8265 - iou: 0.7063 - accuracy: 0.4775\n",
            "Epoch 9: val_loss improved from 0.22597 to 0.21303, saving model to /content/gdrive/MyDrive/Segmentacao/modelo/modelo_drive_09.h5\n",
            "40/40 [==============================] - 25s 636ms/step - loss: 0.1735 - dice_coef: 0.8265 - iou: 0.7063 - accuracy: 0.4775 - val_loss: 0.2130 - val_dice_coef: 0.7870 - val_iou: 0.6503 - val_accuracy: 0.4582\n",
            "Epoch 10/50\n",
            "40/40 [==============================] - ETA: 0s - loss: 0.1705 - dice_coef: 0.8295 - iou: 0.7108 - accuracy: 0.4790\n",
            "Epoch 10: val_loss improved from 0.21303 to 0.21022, saving model to /content/gdrive/MyDrive/Segmentacao/modelo/modelo_drive_10.h5\n",
            "40/40 [==============================] - 24s 598ms/step - loss: 0.1705 - dice_coef: 0.8295 - iou: 0.7108 - accuracy: 0.4790 - val_loss: 0.2102 - val_dice_coef: 0.7898 - val_iou: 0.6541 - val_accuracy: 0.4610\n",
            "Epoch 11/50\n",
            "40/40 [==============================] - ETA: 0s - loss: 0.1677 - dice_coef: 0.8323 - iou: 0.7148 - accuracy: 0.4805\n",
            "Epoch 11: val_loss improved from 0.21022 to 0.20603, saving model to /content/gdrive/MyDrive/Segmentacao/modelo/modelo_drive_11.h5\n",
            "40/40 [==============================] - 26s 644ms/step - loss: 0.1677 - dice_coef: 0.8323 - iou: 0.7148 - accuracy: 0.4805 - val_loss: 0.2060 - val_dice_coef: 0.7940 - val_iou: 0.6598 - val_accuracy: 0.4664\n",
            "Epoch 12/50\n",
            "40/40 [==============================] - ETA: 0s - loss: 0.1653 - dice_coef: 0.8347 - iou: 0.7182 - accuracy: 0.4818\n",
            "Epoch 12: val_loss improved from 0.20603 to 0.19928, saving model to /content/gdrive/MyDrive/Segmentacao/modelo/modelo_drive_12.h5\n",
            "40/40 [==============================] - 25s 617ms/step - loss: 0.1653 - dice_coef: 0.8347 - iou: 0.7182 - accuracy: 0.4818 - val_loss: 0.1993 - val_dice_coef: 0.8007 - val_iou: 0.6694 - val_accuracy: 0.4756\n",
            "Epoch 13/50\n",
            "40/40 [==============================] - ETA: 0s - loss: 0.1634 - dice_coef: 0.8366 - iou: 0.7212 - accuracy: 0.4828\n",
            "Epoch 13: val_loss improved from 0.19928 to 0.19147, saving model to /content/gdrive/MyDrive/Segmentacao/modelo/modelo_drive_13.h5\n",
            "40/40 [==============================] - 24s 607ms/step - loss: 0.1634 - dice_coef: 0.8366 - iou: 0.7212 - accuracy: 0.4828 - val_loss: 0.1915 - val_dice_coef: 0.8085 - val_iou: 0.6803 - val_accuracy: 0.4856\n",
            "Epoch 14/50\n",
            "40/40 [==============================] - ETA: 0s - loss: 0.1611 - dice_coef: 0.8389 - iou: 0.7245 - accuracy: 0.4840\n",
            "Epoch 14: val_loss improved from 0.19147 to 0.18085, saving model to /content/gdrive/MyDrive/Segmentacao/modelo/modelo_drive_14.h5\n",
            "40/40 [==============================] - 24s 598ms/step - loss: 0.1611 - dice_coef: 0.8389 - iou: 0.7245 - accuracy: 0.4840 - val_loss: 0.1809 - val_dice_coef: 0.8191 - val_iou: 0.6954 - val_accuracy: 0.4940\n",
            "Epoch 15/50\n",
            "40/40 [==============================] - ETA: 0s - loss: 0.1591 - dice_coef: 0.8409 - iou: 0.7275 - accuracy: 0.4852\n",
            "Epoch 15: val_loss improved from 0.18085 to 0.18067, saving model to /content/gdrive/MyDrive/Segmentacao/modelo/modelo_drive_15.h5\n",
            "40/40 [==============================] - 25s 618ms/step - loss: 0.1591 - dice_coef: 0.8409 - iou: 0.7275 - accuracy: 0.4852 - val_loss: 0.1807 - val_dice_coef: 0.8193 - val_iou: 0.6962 - val_accuracy: 0.4947\n",
            "Epoch 16/50\n",
            "40/40 [==============================] - ETA: 0s - loss: 0.1571 - dice_coef: 0.8429 - iou: 0.7304 - accuracy: 0.4863\n",
            "Epoch 16: val_loss improved from 0.18067 to 0.17315, saving model to /content/gdrive/MyDrive/Segmentacao/modelo/modelo_drive_16.h5\n",
            "40/40 [==============================] - 24s 594ms/step - loss: 0.1571 - dice_coef: 0.8429 - iou: 0.7304 - accuracy: 0.4863 - val_loss: 0.1731 - val_dice_coef: 0.8269 - val_iou: 0.7075 - val_accuracy: 0.4968\n",
            "Epoch 17/50\n",
            "40/40 [==============================] - ETA: 0s - loss: 0.1556 - dice_coef: 0.8444 - iou: 0.7326 - accuracy: 0.4868\n",
            "Epoch 17: val_loss improved from 0.17315 to 0.16852, saving model to /content/gdrive/MyDrive/Segmentacao/modelo/modelo_drive_17.h5\n",
            "40/40 [==============================] - 25s 615ms/step - loss: 0.1556 - dice_coef: 0.8444 - iou: 0.7326 - accuracy: 0.4868 - val_loss: 0.1685 - val_dice_coef: 0.8315 - val_iou: 0.7137 - val_accuracy: 0.5022\n",
            "Epoch 18/50\n",
            "40/40 [==============================] - ETA: 0s - loss: 0.1538 - dice_coef: 0.8462 - iou: 0.7354 - accuracy: 0.4879\n",
            "Epoch 18: val_loss improved from 0.16852 to 0.15838, saving model to /content/gdrive/MyDrive/Segmentacao/modelo/modelo_drive_18.h5\n",
            "40/40 [==============================] - 25s 631ms/step - loss: 0.1538 - dice_coef: 0.8462 - iou: 0.7354 - accuracy: 0.4879 - val_loss: 0.1584 - val_dice_coef: 0.8416 - val_iou: 0.7281 - val_accuracy: 0.5069\n",
            "Epoch 19/50\n",
            "40/40 [==============================] - ETA: 0s - loss: 0.1521 - dice_coef: 0.8479 - iou: 0.7379 - accuracy: 0.4888\n",
            "Epoch 19: val_loss improved from 0.15838 to 0.14887, saving model to /content/gdrive/MyDrive/Segmentacao/modelo/modelo_drive_19.h5\n",
            "40/40 [==============================] - 25s 616ms/step - loss: 0.1521 - dice_coef: 0.8479 - iou: 0.7379 - accuracy: 0.4888 - val_loss: 0.1489 - val_dice_coef: 0.8511 - val_iou: 0.7426 - val_accuracy: 0.5076\n",
            "Epoch 20/50\n",
            "40/40 [==============================] - ETA: 0s - loss: 0.1508 - dice_coef: 0.8492 - iou: 0.7398 - accuracy: 0.4893\n",
            "Epoch 20: val_loss improved from 0.14887 to 0.14513, saving model to /content/gdrive/MyDrive/Segmentacao/modelo/modelo_drive_20.h5\n",
            "40/40 [==============================] - 25s 620ms/step - loss: 0.1508 - dice_coef: 0.8492 - iou: 0.7398 - accuracy: 0.4893 - val_loss: 0.1451 - val_dice_coef: 0.8549 - val_iou: 0.7482 - val_accuracy: 0.5090\n",
            "Epoch 21/50\n",
            "40/40 [==============================] - ETA: 0s - loss: 0.1496 - dice_coef: 0.8504 - iou: 0.7416 - accuracy: 0.4897\n",
            "Epoch 21: val_loss did not improve from 0.14513\n",
            "40/40 [==============================] - 23s 563ms/step - loss: 0.1496 - dice_coef: 0.8504 - iou: 0.7416 - accuracy: 0.4897 - val_loss: 0.1456 - val_dice_coef: 0.8544 - val_iou: 0.7478 - val_accuracy: 0.5077\n",
            "Epoch 22/50\n",
            "40/40 [==============================] - ETA: 0s - loss: 0.1484 - dice_coef: 0.8516 - iou: 0.7434 - accuracy: 0.4903\n",
            "Epoch 22: val_loss improved from 0.14513 to 0.14403, saving model to /content/gdrive/MyDrive/Segmentacao/modelo/modelo_drive_22.h5\n",
            "40/40 [==============================] - 24s 608ms/step - loss: 0.1484 - dice_coef: 0.8516 - iou: 0.7434 - accuracy: 0.4903 - val_loss: 0.1440 - val_dice_coef: 0.8560 - val_iou: 0.7501 - val_accuracy: 0.5096\n",
            "Epoch 23/50\n",
            "40/40 [==============================] - ETA: 0s - loss: 0.1470 - dice_coef: 0.8530 - iou: 0.7455 - accuracy: 0.4910\n",
            "Epoch 23: val_loss improved from 0.14403 to 0.14278, saving model to /content/gdrive/MyDrive/Segmentacao/modelo/modelo_drive_23.h5\n",
            "40/40 [==============================] - 25s 621ms/step - loss: 0.1470 - dice_coef: 0.8530 - iou: 0.7455 - accuracy: 0.4910 - val_loss: 0.1428 - val_dice_coef: 0.8572 - val_iou: 0.7518 - val_accuracy: 0.5117\n",
            "Epoch 24/50\n",
            "40/40 [==============================] - ETA: 0s - loss: 0.1462 - dice_coef: 0.8538 - iou: 0.7467 - accuracy: 0.4913\n",
            "Epoch 24: val_loss improved from 0.14278 to 0.14023, saving model to /content/gdrive/MyDrive/Segmentacao/modelo/modelo_drive_24.h5\n",
            "40/40 [==============================] - 24s 601ms/step - loss: 0.1462 - dice_coef: 0.8538 - iou: 0.7467 - accuracy: 0.4913 - val_loss: 0.1402 - val_dice_coef: 0.8598 - val_iou: 0.7558 - val_accuracy: 0.5126\n",
            "Epoch 25/50\n",
            "40/40 [==============================] - ETA: 0s - loss: 0.1453 - dice_coef: 0.8547 - iou: 0.7481 - accuracy: 0.4917\n",
            "Epoch 25: val_loss did not improve from 0.14023\n",
            "40/40 [==============================] - 24s 593ms/step - loss: 0.1453 - dice_coef: 0.8547 - iou: 0.7481 - accuracy: 0.4917 - val_loss: 0.1439 - val_dice_coef: 0.8561 - val_iou: 0.7503 - val_accuracy: 0.5085\n",
            "Epoch 26/50\n",
            "40/40 [==============================] - ETA: 0s - loss: 0.1445 - dice_coef: 0.8555 - iou: 0.7494 - accuracy: 0.4920\n",
            "Epoch 26: val_loss did not improve from 0.14023\n",
            "40/40 [==============================] - 22s 552ms/step - loss: 0.1445 - dice_coef: 0.8555 - iou: 0.7494 - accuracy: 0.4920 - val_loss: 0.1425 - val_dice_coef: 0.8575 - val_iou: 0.7522 - val_accuracy: 0.5111\n",
            "Epoch 27/50\n",
            "40/40 [==============================] - ETA: 0s - loss: 0.1434 - dice_coef: 0.8566 - iou: 0.7511 - accuracy: 0.4926\n",
            "Epoch 27: val_loss did not improve from 0.14023\n",
            "40/40 [==============================] - 23s 578ms/step - loss: 0.1434 - dice_coef: 0.8566 - iou: 0.7511 - accuracy: 0.4926 - val_loss: 0.1445 - val_dice_coef: 0.8555 - val_iou: 0.7490 - val_accuracy: 0.5106\n",
            "Epoch 28/50\n",
            "40/40 [==============================] - ETA: 0s - loss: 0.1428 - dice_coef: 0.8572 - iou: 0.7519 - accuracy: 0.4927\n",
            "Epoch 28: val_loss did not improve from 0.14023\n",
            "40/40 [==============================] - 23s 578ms/step - loss: 0.1428 - dice_coef: 0.8572 - iou: 0.7519 - accuracy: 0.4927 - val_loss: 0.1404 - val_dice_coef: 0.8596 - val_iou: 0.7554 - val_accuracy: 0.5121\n",
            "Epoch 29/50\n",
            "40/40 [==============================] - ETA: 0s - loss: 0.1422 - dice_coef: 0.8578 - iou: 0.7528 - accuracy: 0.4929\n",
            "Epoch 29: val_loss improved from 0.14023 to 0.13674, saving model to /content/gdrive/MyDrive/Segmentacao/modelo/modelo_drive_29.h5\n",
            "40/40 [==============================] - 24s 604ms/step - loss: 0.1422 - dice_coef: 0.8578 - iou: 0.7528 - accuracy: 0.4929 - val_loss: 0.1367 - val_dice_coef: 0.8633 - val_iou: 0.7611 - val_accuracy: 0.5129\n",
            "Epoch 30/50\n",
            "40/40 [==============================] - ETA: 0s - loss: 0.1415 - dice_coef: 0.8585 - iou: 0.7539 - accuracy: 0.4932\n",
            "Epoch 30: val_loss did not improve from 0.13674\n",
            "40/40 [==============================] - 24s 595ms/step - loss: 0.1415 - dice_coef: 0.8585 - iou: 0.7539 - accuracy: 0.4932 - val_loss: 0.1379 - val_dice_coef: 0.8621 - val_iou: 0.7593 - val_accuracy: 0.5116\n",
            "Epoch 31/50\n",
            "40/40 [==============================] - ETA: 0s - loss: 0.1407 - dice_coef: 0.8593 - iou: 0.7551 - accuracy: 0.4936\n",
            "Epoch 31: val_loss improved from 0.13674 to 0.13610, saving model to /content/gdrive/MyDrive/Segmentacao/modelo/modelo_drive_31.h5\n",
            "40/40 [==============================] - 23s 589ms/step - loss: 0.1407 - dice_coef: 0.8593 - iou: 0.7551 - accuracy: 0.4936 - val_loss: 0.1361 - val_dice_coef: 0.8639 - val_iou: 0.7621 - val_accuracy: 0.5122\n",
            "Epoch 32/50\n",
            "40/40 [==============================] - ETA: 0s - loss: 0.1399 - dice_coef: 0.8601 - iou: 0.7563 - accuracy: 0.4940\n",
            "Epoch 32: val_loss improved from 0.13610 to 0.13537, saving model to /content/gdrive/MyDrive/Segmentacao/modelo/modelo_drive_32.h5\n",
            "40/40 [==============================] - 24s 598ms/step - loss: 0.1399 - dice_coef: 0.8601 - iou: 0.7563 - accuracy: 0.4940 - val_loss: 0.1354 - val_dice_coef: 0.8646 - val_iou: 0.7632 - val_accuracy: 0.5126\n",
            "Epoch 33/50\n",
            "40/40 [==============================] - ETA: 0s - loss: 0.1395 - dice_coef: 0.8605 - iou: 0.7570 - accuracy: 0.4942\n",
            "Epoch 33: val_loss improved from 0.13537 to 0.13413, saving model to /content/gdrive/MyDrive/Segmentacao/modelo/modelo_drive_33.h5\n",
            "40/40 [==============================] - 25s 621ms/step - loss: 0.1395 - dice_coef: 0.8605 - iou: 0.7570 - accuracy: 0.4942 - val_loss: 0.1341 - val_dice_coef: 0.8659 - val_iou: 0.7651 - val_accuracy: 0.5140\n",
            "Epoch 34/50\n",
            "40/40 [==============================] - ETA: 0s - loss: 0.1388 - dice_coef: 0.8612 - iou: 0.7581 - accuracy: 0.4945\n",
            "Epoch 34: val_loss improved from 0.13413 to 0.13270, saving model to /content/gdrive/MyDrive/Segmentacao/modelo/modelo_drive_34.h5\n",
            "40/40 [==============================] - 25s 633ms/step - loss: 0.1388 - dice_coef: 0.8612 - iou: 0.7581 - accuracy: 0.4945 - val_loss: 0.1327 - val_dice_coef: 0.8673 - val_iou: 0.7673 - val_accuracy: 0.5145\n",
            "Epoch 35/50\n",
            "40/40 [==============================] - ETA: 0s - loss: 0.1383 - dice_coef: 0.8617 - iou: 0.7588 - accuracy: 0.4946\n",
            "Epoch 35: val_loss improved from 0.13270 to 0.13170, saving model to /content/gdrive/MyDrive/Segmentacao/modelo/modelo_drive_35.h5\n",
            "40/40 [==============================] - 24s 596ms/step - loss: 0.1383 - dice_coef: 0.8617 - iou: 0.7588 - accuracy: 0.4946 - val_loss: 0.1317 - val_dice_coef: 0.8683 - val_iou: 0.7688 - val_accuracy: 0.5152\n",
            "Epoch 36/50\n",
            "40/40 [==============================] - ETA: 0s - loss: 0.1375 - dice_coef: 0.8625 - iou: 0.7601 - accuracy: 0.4953\n",
            "Epoch 36: val_loss improved from 0.13170 to 0.13050, saving model to /content/gdrive/MyDrive/Segmentacao/modelo/modelo_drive_36.h5\n",
            "40/40 [==============================] - 25s 617ms/step - loss: 0.1375 - dice_coef: 0.8625 - iou: 0.7601 - accuracy: 0.4953 - val_loss: 0.1305 - val_dice_coef: 0.8695 - val_iou: 0.7707 - val_accuracy: 0.5158\n",
            "Epoch 37/50\n",
            "40/40 [==============================] - ETA: 0s - loss: 0.1369 - dice_coef: 0.8631 - iou: 0.7610 - accuracy: 0.4956\n",
            "Epoch 37: val_loss did not improve from 0.13050\n",
            "40/40 [==============================] - 23s 564ms/step - loss: 0.1369 - dice_coef: 0.8631 - iou: 0.7610 - accuracy: 0.4956 - val_loss: 0.1314 - val_dice_coef: 0.8686 - val_iou: 0.7693 - val_accuracy: 0.5154\n",
            "Epoch 38/50\n",
            "40/40 [==============================] - ETA: 0s - loss: 0.1364 - dice_coef: 0.8636 - iou: 0.7617 - accuracy: 0.4958\n",
            "Epoch 38: val_loss improved from 0.13050 to 0.12942, saving model to /content/gdrive/MyDrive/Segmentacao/modelo/modelo_drive_38.h5\n",
            "40/40 [==============================] - 25s 616ms/step - loss: 0.1364 - dice_coef: 0.8636 - iou: 0.7617 - accuracy: 0.4958 - val_loss: 0.1294 - val_dice_coef: 0.8706 - val_iou: 0.7724 - val_accuracy: 0.5158\n",
            "Epoch 39/50\n",
            "40/40 [==============================] - ETA: 0s - loss: 0.1358 - dice_coef: 0.8642 - iou: 0.7627 - accuracy: 0.4962\n",
            "Epoch 39: val_loss did not improve from 0.12942\n",
            "40/40 [==============================] - 24s 590ms/step - loss: 0.1358 - dice_coef: 0.8642 - iou: 0.7627 - accuracy: 0.4962 - val_loss: 0.1295 - val_dice_coef: 0.8705 - val_iou: 0.7723 - val_accuracy: 0.5157\n",
            "Epoch 40/50\n",
            "40/40 [==============================] - ETA: 0s - loss: 0.1354 - dice_coef: 0.8646 - iou: 0.7633 - accuracy: 0.4965\n",
            "Epoch 40: val_loss did not improve from 0.12942\n",
            "40/40 [==============================] - 22s 562ms/step - loss: 0.1354 - dice_coef: 0.8646 - iou: 0.7633 - accuracy: 0.4965 - val_loss: 0.1306 - val_dice_coef: 0.8694 - val_iou: 0.7705 - val_accuracy: 0.5147\n",
            "Epoch 41/50\n",
            "40/40 [==============================] - ETA: 0s - loss: 0.1350 - dice_coef: 0.8650 - iou: 0.7639 - accuracy: 0.4967\n",
            "Epoch 41: val_loss did not improve from 0.12942\n",
            "40/40 [==============================] - 24s 589ms/step - loss: 0.1350 - dice_coef: 0.8650 - iou: 0.7639 - accuracy: 0.4967 - val_loss: 0.1313 - val_dice_coef: 0.8687 - val_iou: 0.7694 - val_accuracy: 0.5148\n",
            "Epoch 42/50\n",
            "40/40 [==============================] - ETA: 0s - loss: 0.1345 - dice_coef: 0.8655 - iou: 0.7647 - accuracy: 0.4969\n",
            "Epoch 42: val_loss did not improve from 0.12942\n",
            "40/40 [==============================] - 24s 591ms/step - loss: 0.1345 - dice_coef: 0.8655 - iou: 0.7647 - accuracy: 0.4969 - val_loss: 0.1296 - val_dice_coef: 0.8704 - val_iou: 0.7721 - val_accuracy: 0.5149\n",
            "Epoch 43/50\n",
            "40/40 [==============================] - ETA: 0s - loss: 0.1339 - dice_coef: 0.8661 - iou: 0.7655 - accuracy: 0.4973\n",
            "Epoch 43: val_loss improved from 0.12942 to 0.12913, saving model to /content/gdrive/MyDrive/Segmentacao/modelo/modelo_drive_43.h5\n",
            "40/40 [==============================] - 24s 595ms/step - loss: 0.1339 - dice_coef: 0.8661 - iou: 0.7655 - accuracy: 0.4973 - val_loss: 0.1291 - val_dice_coef: 0.8709 - val_iou: 0.7729 - val_accuracy: 0.5160\n",
            "Epoch 44/50\n",
            "40/40 [==============================] - ETA: 0s - loss: 0.1339 - dice_coef: 0.8661 - iou: 0.7657 - accuracy: 0.4972\n",
            "Epoch 44: val_loss improved from 0.12913 to 0.12899, saving model to /content/gdrive/MyDrive/Segmentacao/modelo/modelo_drive_44.h5\n",
            "40/40 [==============================] - 25s 617ms/step - loss: 0.1339 - dice_coef: 0.8661 - iou: 0.7657 - accuracy: 0.4972 - val_loss: 0.1290 - val_dice_coef: 0.8710 - val_iou: 0.7731 - val_accuracy: 0.5160\n",
            "Epoch 45/50\n",
            "40/40 [==============================] - ETA: 0s - loss: 0.1335 - dice_coef: 0.8665 - iou: 0.7662 - accuracy: 0.4974\n",
            "Epoch 45: val_loss did not improve from 0.12899\n",
            "40/40 [==============================] - 22s 560ms/step - loss: 0.1335 - dice_coef: 0.8665 - iou: 0.7662 - accuracy: 0.4974 - val_loss: 0.1299 - val_dice_coef: 0.8701 - val_iou: 0.7717 - val_accuracy: 0.5154\n",
            "Epoch 46/50\n",
            "40/40 [==============================] - ETA: 0s - loss: 0.1332 - dice_coef: 0.8668 - iou: 0.7667 - accuracy: 0.4975\n",
            "Epoch 46: val_loss improved from 0.12899 to 0.12828, saving model to /content/gdrive/MyDrive/Segmentacao/modelo/modelo_drive_46.h5\n",
            "40/40 [==============================] - 24s 595ms/step - loss: 0.1332 - dice_coef: 0.8668 - iou: 0.7667 - accuracy: 0.4975 - val_loss: 0.1283 - val_dice_coef: 0.8717 - val_iou: 0.7742 - val_accuracy: 0.5157\n",
            "Epoch 47/50\n",
            "40/40 [==============================] - ETA: 0s - loss: 0.1328 - dice_coef: 0.8672 - iou: 0.7673 - accuracy: 0.4977\n",
            "Epoch 47: val_loss improved from 0.12828 to 0.12782, saving model to /content/gdrive/MyDrive/Segmentacao/modelo/modelo_drive_47.h5\n",
            "40/40 [==============================] - 24s 599ms/step - loss: 0.1328 - dice_coef: 0.8672 - iou: 0.7673 - accuracy: 0.4977 - val_loss: 0.1278 - val_dice_coef: 0.8722 - val_iou: 0.7750 - val_accuracy: 0.5165\n",
            "Epoch 48/50\n",
            "40/40 [==============================] - ETA: 0s - loss: 0.1320 - dice_coef: 0.8680 - iou: 0.7686 - accuracy: 0.4984\n",
            "Epoch 48: val_loss did not improve from 0.12782\n",
            "40/40 [==============================] - 23s 566ms/step - loss: 0.1320 - dice_coef: 0.8680 - iou: 0.7686 - accuracy: 0.4984 - val_loss: 0.1279 - val_dice_coef: 0.8721 - val_iou: 0.7747 - val_accuracy: 0.5161\n",
            "Epoch 49/50\n",
            "40/40 [==============================] - ETA: 0s - loss: 0.1315 - dice_coef: 0.8685 - iou: 0.7694 - accuracy: 0.4988\n",
            "Epoch 49: val_loss did not improve from 0.12782\n",
            "40/40 [==============================] - 23s 580ms/step - loss: 0.1315 - dice_coef: 0.8685 - iou: 0.7694 - accuracy: 0.4988 - val_loss: 0.1282 - val_dice_coef: 0.8718 - val_iou: 0.7743 - val_accuracy: 0.5163\n",
            "Epoch 50/50\n",
            "40/40 [==============================] - ETA: 0s - loss: 0.1307 - dice_coef: 0.8693 - iou: 0.7706 - accuracy: 0.4995\n",
            "Epoch 50: val_loss did not improve from 0.12782\n",
            "40/40 [==============================] - 24s 599ms/step - loss: 0.1307 - dice_coef: 0.8693 - iou: 0.7706 - accuracy: 0.4995 - val_loss: 0.1281 - val_dice_coef: 0.8719 - val_iou: 0.7745 - val_accuracy: 0.5163\n"
          ]
        }
      ]
    }
  ]
}