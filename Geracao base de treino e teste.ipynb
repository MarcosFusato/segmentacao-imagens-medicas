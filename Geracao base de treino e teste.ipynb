{
  "nbformat": 4,
  "nbformat_minor": 0,
  "metadata": {
    "colab": {
      "provenance": []
    },
    "kernelspec": {
      "name": "python3",
      "display_name": "Python 3"
    },
    "language_info": {
      "name": "python"
    }
  },
  "cells": [
    {
      "cell_type": "markdown",
      "source": [
        "# As imagens para esse estudo foram retiradas do site do kaggle pelo link abaixo: https://www.kaggle.com/datasets/kmader/siim-medical-images"
      ],
      "metadata": {
        "id": "WfoGX5tQ81N7"
      }
    },
    {
      "cell_type": "markdown",
      "source": [
        "# Segmentação de imagens médicas - Notebook responsavel geração da base de treino e teste"
      ],
      "metadata": {
        "id": "i3Sh8FLW5k9L"
      }
    },
    {
      "cell_type": "markdown",
      "source": [
        "# Importação das bibliotecas"
      ],
      "metadata": {
        "id": "DgjdHT6wG28E"
      }
    },
    {
      "cell_type": "code",
      "source": [
        "import os\n",
        "import numpy as np\n",
        "import cv2\n",
        "from tqdm import tqdm\n",
        "from matplotlib import pyplot as plt\n",
        "from sklearn.model_selection import train_test_split\n",
        "import tensorflow\n",
        "import random\n",
        "from glob import glob\n",
        "#from imageio import mimread\n",
        "from skimage.io import imread\n",
        "from skimage.color import rgb2gray\n",
        "from google.colab.patches import cv2_imshow\n",
        "tensorflow.__version__"
      ],
      "metadata": {
        "colab": {
          "base_uri": "https://localhost:8080/",
          "height": 36
        },
        "id": "xkybaW_NG5-i",
        "outputId": "e8bb1d01-700b-4668-870b-0f987e1ad8c7"
      },
      "execution_count": null,
      "outputs": [
        {
          "output_type": "execute_result",
          "data": {
            "text/plain": [
              "'2.11.0'"
            ],
            "application/vnd.google.colaboratory.intrinsic+json": {
              "type": "string"
            }
          },
          "metadata": {},
          "execution_count": 6
        }
      ]
    },
    {
      "cell_type": "code",
      "source": [
        "from google.colab import drive\n",
        "drive.mount('/content/gdrive')"
      ],
      "metadata": {
        "colab": {
          "base_uri": "https://localhost:8080/"
        },
        "id": "I3QCqA98HD20",
        "outputId": "ee0f62a6-e135-409c-d4c2-f0f9bbd229c1"
      },
      "execution_count": null,
      "outputs": [
        {
          "output_type": "stream",
          "name": "stdout",
          "text": [
            "Mounted at /content/gdrive\n"
          ]
        }
      ]
    },
    {
      "cell_type": "markdown",
      "source": [
        "# Criação das pastas train e test para gravação das imagens"
      ],
      "metadata": {
        "id": "rFUzMGsqHawV"
      }
    },
    {
      "cell_type": "code",
      "source": [
        "def retorna_x_y(caminho, pasta_x, pasta_y):   \n",
        "   x = sorted(glob(os.path.join(caminho, pasta_x, '*.png')))\n",
        "   y = sorted(glob(os.path.join(caminho, pasta_y, '*.jpg')))\n",
        "   \n",
        "   return x, y"
      ],
      "metadata": {
        "id": "YquB8Do6HjQP"
      },
      "execution_count": null,
      "outputs": []
    },
    {
      "cell_type": "code",
      "source": [
        "caminho = '/content/gdrive/MyDrive/Segmentacao/medical-images'"
      ],
      "metadata": {
        "id": "iOUuU_q_HtV6"
      },
      "execution_count": null,
      "outputs": []
    },
    {
      "cell_type": "code",
      "source": [
        "x, y = retorna_x_y(caminho, 'png_images', 'jpg_images')"
      ],
      "metadata": {
        "id": "lx8KrNANHwYx"
      },
      "execution_count": null,
      "outputs": []
    },
    {
      "cell_type": "markdown",
      "source": [
        "# Criando as pastas train e test"
      ],
      "metadata": {
        "id": "MDg6CyYLKell"
      }
    },
    {
      "cell_type": "code",
      "source": [
        "os.mkdir(caminho + \"/train\")\n",
        "os.mkdir(caminho + \"/train/principal\")\n",
        "os.mkdir(caminho + \"/train/mask\")\n",
        "os.mkdir(caminho + \"/test\")\n",
        "os.mkdir(caminho + \"/test/principal\")\n",
        "os.mkdir(caminho + \"/test/mask\")"
      ],
      "metadata": {
        "id": "lsGdDt4jHzkS"
      },
      "execution_count": null,
      "outputs": []
    },
    {
      "cell_type": "code",
      "source": [
        "x_train, x_test, y_train, y_test = train_test_split(x, y, test_size=0.2, random_state = 42)"
      ],
      "metadata": {
        "id": "kc8_lngwL5VC"
      },
      "execution_count": null,
      "outputs": []
    },
    {
      "cell_type": "markdown",
      "source": [
        "# Salva as imagens pasta train"
      ],
      "metadata": {
        "id": "23CFUMK3MB4k"
      }
    },
    {
      "cell_type": "code",
      "source": [
        "print(x_train[0])\n",
        "print(y_train[0])\n",
        "print(x_test[0])\n",
        "print(y_test[0])"
      ],
      "metadata": {
        "colab": {
          "base_uri": "https://localhost:8080/"
        },
        "id": "TvSqout6Mhwg",
        "outputId": "45be84e6-cfab-42a6-bf01-0c4621bf3216"
      },
      "execution_count": null,
      "outputs": [
        {
          "output_type": "stream",
          "name": "stdout",
          "text": [
            "/content/gdrive/MyDrive/Segmentacao/medical-images/png_images/ID_0055_AGE_0071_CONTRAST_0_CT.png\n",
            "/content/gdrive/MyDrive/Segmentacao/medical-images/jpg_images/MASK_ID_0055_AGE_0071_CONTRAST_0_CT.jpg\n",
            "/content/gdrive/MyDrive/Segmentacao/medical-images/png_images/ID_0083_AGE_0082_CONTRAST_0_CT.png\n",
            "/content/gdrive/MyDrive/Segmentacao/medical-images/jpg_images/MASK_ID_0083_AGE_0082_CONTRAST_0_CT.jpg\n"
          ]
        }
      ]
    },
    {
      "cell_type": "markdown",
      "source": [
        "# Salvando as imagens na pasta train"
      ],
      "metadata": {
        "id": "UHlPWCtHf7ec"
      }
    },
    {
      "cell_type": "code",
      "source": [
        "folder_new_x = caminho + \"/train/principal\"\n",
        "folder_new_y = caminho + \"/train/mask\""
      ],
      "metadata": {
        "id": "m5ehkBRGMYWE"
      },
      "execution_count": null,
      "outputs": []
    },
    {
      "cell_type": "code",
      "source": [
        "for filename in x_train:\n",
        "    #Leitura do arquivo\n",
        "    img = imread(filename)    \n",
        "\n",
        "    if img is not None:      \n",
        "\n",
        "      #gera o caminho do arquivo mask\n",
        "      arquivo = os.path.join(folder_new_x, filename.split('/')[-1])      \n",
        "\n",
        "      #Salva o arquivo mask no drive\n",
        "      cv2.imwrite(arquivo, img)"
      ],
      "metadata": {
        "id": "BHPnPJXyMAsY"
      },
      "execution_count": null,
      "outputs": []
    },
    {
      "cell_type": "code",
      "source": [
        "for filename in y_train:\n",
        "    #Leitura do arquivo\n",
        "    img = imread(filename)    \n",
        "\n",
        "    if img is not None:      \n",
        "\n",
        "      #gera o caminho do arquivo mask\n",
        "      arquivo = os.path.join(folder_new_y, filename.split('/')[-1])      \n",
        "\n",
        "      #Salva o arquivo mask no drive\n",
        "      cv2.imwrite(arquivo, img)"
      ],
      "metadata": {
        "id": "xgJNpVixYwfX"
      },
      "execution_count": null,
      "outputs": []
    },
    {
      "cell_type": "markdown",
      "source": [
        "# Salvando as imagens na pasta test"
      ],
      "metadata": {
        "id": "R-mj2h9TgSMz"
      }
    },
    {
      "cell_type": "code",
      "source": [
        "folder_new_x = caminho + \"/test/principal\"\n",
        "folder_new_y = caminho + \"/test/mask\""
      ],
      "metadata": {
        "id": "wBQK5pVvgVyu"
      },
      "execution_count": null,
      "outputs": []
    },
    {
      "cell_type": "code",
      "source": [
        "for filename in x_test:\n",
        "    #Leitura do arquivo\n",
        "    img = imread(filename)    \n",
        "\n",
        "    if img is not None:      \n",
        "\n",
        "      #gera o caminho do arquivo mask\n",
        "      arquivo = os.path.join(folder_new_x, filename.split('/')[-1])      \n",
        "\n",
        "      #Salva o arquivo mask no drive\n",
        "      cv2.imwrite(arquivo, img)"
      ],
      "metadata": {
        "id": "ryB7zuaQga8C"
      },
      "execution_count": null,
      "outputs": []
    },
    {
      "cell_type": "code",
      "source": [
        "for filename in y_test:\n",
        "    #Leitura do arquivo\n",
        "    img = imread(filename)    \n",
        "\n",
        "    if img is not None:      \n",
        "\n",
        "      #gera o caminho do arquivo mask\n",
        "      arquivo = os.path.join(folder_new_y, filename.split('/')[-1])      \n",
        "\n",
        "      #Salva o arquivo mask no drive\n",
        "      cv2.imwrite(arquivo, img)"
      ],
      "metadata": {
        "id": "S3t5uMbFgkBe"
      },
      "execution_count": null,
      "outputs": []
    }
  ]
}